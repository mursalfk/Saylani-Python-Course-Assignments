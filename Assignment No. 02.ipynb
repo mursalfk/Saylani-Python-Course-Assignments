{
 "cells": [
  {
   "cell_type": "markdown",
   "metadata": {},
   "source": [
    "## Task 01"
   ]
  },
  {
   "cell_type": "code",
   "execution_count": 13,
   "metadata": {},
   "outputs": [
    {
     "name": "stdout",
     "output_type": "stream",
     "text": [
      "Marks of Subject No.1 = 1\n",
      "Marks of Subject No.2 = 1\n",
      "Marks of Subject No.3 = 1\n",
      "Marks of Subject No.4 = 1\n",
      "Marks of Subject No.5 = 2\n",
      "Total Marks = 6\n",
      "Maximum Marks = 100\n",
      "Percentage = 6.0\n",
      "Grade = F\n"
     ]
    }
   ],
   "source": [
    "i1 = int(input('Marks of Subject No.1 = '))\n",
    "i2 = int(input('Marks of Subject No.2 = '))\n",
    "i3 = int(input('Marks of Subject No.3 = '))\n",
    "i4 = int(input('Marks of Subject No.4 = '))\n",
    "i5 = int(input('Marks of Subject No.5 = '))\n",
    "i_total = i1 + i2 + i3 + i4 + i5\n",
    "print('Total Marks = ' + str(i_total))\n",
    "i_max = int(input('Maximum Marks = '))\n",
    "i_perc = (i_total*100) / i_max\n",
    "print('Percentage = ' + str(i_perc))\n",
    "if i_perc < 50:\n",
    "    print('Grade = F')\n",
    "elif i_perc <60:\n",
    "    print('Grade = D')\n",
    "elif i_perc <70:\n",
    "    print('Grade = C')\n",
    "elif i_perc <80:\n",
    "    print('Grade = B')\n",
    "elif i_perc <90:\n",
    "    print('Grade = A')\n",
    "elif i_perc <=100:\n",
    "    print('Grade = A1') \n",
    "else:\n",
    "    print('Invalid Input')"
   ]
  },
  {
   "cell_type": "markdown",
   "metadata": {},
   "source": [
    "## Task 02"
   ]
  },
  {
   "cell_type": "code",
   "execution_count": 16,
   "metadata": {},
   "outputs": [
    {
     "name": "stdout",
     "output_type": "stream",
     "text": [
      "Enter Your Number = 23\n",
      "Odd\n"
     ]
    }
   ],
   "source": [
    "i = int(input('Enter Your Number = '))\n",
    "i_mod = i%2\n",
    "if i_mod == 0:\n",
    "    print('Even')\n",
    "else:\n",
    "    print('Odd')"
   ]
  },
  {
   "cell_type": "markdown",
   "metadata": {},
   "source": [
    "## Task 03"
   ]
  },
  {
   "cell_type": "code",
   "execution_count": 19,
   "metadata": {},
   "outputs": [
    {
     "name": "stdout",
     "output_type": "stream",
     "text": [
      "The length of the list is = 6\n"
     ]
    }
   ],
   "source": [
    "cities = [\"Atlanta\", \"Baltimore\", \"Chicago\", \"Denver\", \"Los Angeles\", \"Seattle\"]\n",
    "i_length = print(\"The length of the list is = \" + str(len(cities)))\n",
    "i_length"
   ]
  },
  {
   "cell_type": "markdown",
   "metadata": {},
   "source": [
    "## Task 04"
   ]
  },
  {
   "cell_type": "code",
   "execution_count": 20,
   "metadata": {},
   "outputs": [
    {
     "name": "stdout",
     "output_type": "stream",
     "text": [
      "48\n"
     ]
    }
   ],
   "source": [
    "i_list = [2, 4, 5, 6, 7, 7, 8, 9]\n",
    "i_sum = 0\n",
    "for i in i_list:\n",
    "    i_sum += i\n",
    "    \n",
    "print(i_sum)"
   ]
  },
  {
   "cell_type": "markdown",
   "metadata": {},
   "source": [
    "## Task 05"
   ]
  },
  {
   "cell_type": "code",
   "execution_count": 42,
   "metadata": {},
   "outputs": [
    {
     "data": {
      "text/plain": [
       "10"
      ]
     },
     "execution_count": 42,
     "metadata": {},
     "output_type": "execute_result"
    }
   ],
   "source": [
    "i_list2 = [2, 4, 5, 6, 7, 7, 10, 9]\n",
    "i_list2.sort(key=None, reverse = True)\n",
    "i_list2.pop(0)"
   ]
  },
  {
   "cell_type": "markdown",
   "metadata": {},
   "source": [
    "## Task 06"
   ]
  },
  {
   "cell_type": "code",
   "execution_count": 46,
   "metadata": {},
   "outputs": [
    {
     "name": "stdout",
     "output_type": "stream",
     "text": [
      "2\n",
      "4\n"
     ]
    }
   ],
   "source": [
    "i_list = [2, 4, 5, 6, 7, 7, 8, 9]\n",
    "for i in i_list:\n",
    "    if i<5:\n",
    "        print(i)"
   ]
  },
  {
   "cell_type": "code",
   "execution_count": null,
   "metadata": {},
   "outputs": [],
   "source": []
  }
 ],
 "metadata": {
  "kernelspec": {
   "display_name": "Python 3",
   "language": "python",
   "name": "python3"
  },
  "language_info": {
   "codemirror_mode": {
    "name": "ipython",
    "version": 3
   },
   "file_extension": ".py",
   "mimetype": "text/x-python",
   "name": "python",
   "nbconvert_exporter": "python",
   "pygments_lexer": "ipython3",
   "version": "3.7.4"
  }
 },
 "nbformat": 4,
 "nbformat_minor": 2
}
