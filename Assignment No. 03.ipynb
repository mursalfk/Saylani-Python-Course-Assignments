{
 "cells": [
  {
   "cell_type": "markdown",
   "metadata": {},
   "source": [
    "# Task 01"
   ]
  },
  {
   "cell_type": "code",
   "execution_count": 20,
   "metadata": {},
   "outputs": [
    {
     "name": "stdout",
     "output_type": "stream",
     "text": [
      "Attention:\n",
      "1. Addition\n",
      "2. Subtract\n",
      "3. Multiplication\n",
      "4. Division\n",
      "5. Power\n",
      "Select Operation: 5\n",
      "\n",
      "\n",
      "Enter first number: 3\n",
      "Enter second number: 3\n",
      "\n",
      "\n",
      "3.0 ^ 3.0 = 27.0\n"
     ]
    }
   ],
   "source": [
    "# This function adds two numbers \n",
    "def add(x, y):\n",
    "   return x + y\n",
    "\n",
    "def subtract(x, y):\n",
    "   return x - y\n",
    "\n",
    "def multiply(x, y):\n",
    "   return x * y\n",
    "\n",
    "def divide(x, y):\n",
    "   return x / y\n",
    "\n",
    "def power(x, y):\n",
    "   return x ** y\n",
    "\n",
    "choice = input('''Attention:\n",
    "1. Addition\n",
    "2. Subtract\n",
    "3. Multiplication\n",
    "4. Division\n",
    "5. Power\n",
    "Select Operation: ''')\n",
    "print('\\n')\n",
    "num1 = float(input(\"Enter first number: \"))\n",
    "num2 = float(input(\"Enter second number: \"))\n",
    "print('\\n')\n",
    "if choice == '1':\n",
    "   print(num1,\"+\",num2,\"=\", add(num1,num2))\n",
    "elif choice == '2':\n",
    "   print(num1,\"-\",num2,\"=\", subtract(num1,num2))\n",
    "elif choice == '3':\n",
    "   print(num1,\"*\",num2,\"=\", multiply(num1,num2))\n",
    "elif choice == '4':\n",
    "   print(num1,\"/\",num2,\"=\", divide(num1,num2))\n",
    "elif choice == '5':\n",
    "   print(num1,\"^\",num2,\"=\", power(num1,num2))\n",
    "else:\n",
    "   print(\"Invalid input\")\n"
   ]
  },
  {
   "cell_type": "markdown",
   "metadata": {},
   "source": [
    "# Task 02"
   ]
  },
  {
   "cell_type": "code",
   "execution_count": 31,
   "metadata": {},
   "outputs": [
    {
     "name": "stdout",
     "output_type": "stream",
     "text": [
      "There are integers in the list\n"
     ]
    }
   ],
   "source": [
    "i_list = [1, 2, 5, 'hello', 'Hi']\n",
    "count=0\n",
    "for i in i_list:\n",
    "    if type(i) == int:\n",
    "        count = 1\n",
    "        \n",
    "if count == 1:\n",
    "    print('There are integers in the list')\n",
    "else:\n",
    "    print('There are no integers in the list')"
   ]
  },
  {
   "cell_type": "markdown",
   "metadata": {},
   "source": [
    "# Task 03"
   ]
  },
  {
   "cell_type": "code",
   "execution_count": 34,
   "metadata": {},
   "outputs": [
    {
     "name": "stdout",
     "output_type": "stream",
     "text": [
      "Before Adding a new key {0: 10, 1: 20}\n",
      "After Adding a new key {0: 10, 1: 20, 2: 30}\n"
     ]
    }
   ],
   "source": [
    "dic = {0:10, 1:20}\n",
    "print(\"Before Adding a new key \" + str(dic))\n",
    "dic.update({2:30})\n",
    "print(\"After Adding a new key \" + str(dic))"
   ]
  },
  {
   "cell_type": "markdown",
   "metadata": {},
   "source": [
    "# Task 04"
   ]
  },
  {
   "cell_type": "code",
   "execution_count": 41,
   "metadata": {},
   "outputs": [
    {
     "name": "stdout",
     "output_type": "stream",
     "text": [
      "3\n"
     ]
    }
   ],
   "source": [
    "i_sum=0\n",
    "dic1 = {0:10, 1:20, 2:\"Hello\"}\n",
    "for i in dic1:\n",
    "    if type(i) == int:\n",
    "        i_sum = i_sum+i\n",
    "print(i_sum)"
   ]
  },
  {
   "cell_type": "code",
   "execution_count": null,
   "metadata": {},
   "outputs": [],
   "source": []
  }
 ],
 "metadata": {
  "kernelspec": {
   "display_name": "Python 3",
   "language": "python",
   "name": "python3"
  },
  "language_info": {
   "codemirror_mode": {
    "name": "ipython",
    "version": 3
   },
   "file_extension": ".py",
   "mimetype": "text/x-python",
   "name": "python",
   "nbconvert_exporter": "python",
   "pygments_lexer": "ipython3",
   "version": "3.7.4"
  }
 },
 "nbformat": 4,
 "nbformat_minor": 2
}
